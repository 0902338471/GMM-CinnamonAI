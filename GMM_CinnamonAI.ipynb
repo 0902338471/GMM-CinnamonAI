{
  "nbformat": 4,
  "nbformat_minor": 0,
  "metadata": {
    "colab": {
      "name": "GMM-CinnamonAI.ipynb",
      "provenance": [],
      "collapsed_sections": [],
      "toc_visible": true,
      "authorship_tag": "ABX9TyPZ3qMAZM+/jfzqLq5YPb0e",
      "include_colab_link": true
    },
    "kernelspec": {
      "name": "python3",
      "display_name": "Python 3"
    }
  },
  "cells": [
    {
      "cell_type": "markdown",
      "metadata": {
        "id": "view-in-github",
        "colab_type": "text"
      },
      "source": [
        "<a href=\"https://colab.research.google.com/github/0902338471/GMM-CinnamonAI/blob/master/GMM_CinnamonAI.ipynb\" target=\"_parent\"><img src=\"https://colab.research.google.com/assets/colab-badge.svg\" alt=\"Open In Colab\"/></a>"
      ]
    },
    {
      "cell_type": "code",
      "metadata": {
        "id": "5vxUiLeBEmau",
        "colab_type": "code",
        "outputId": "c098ac8c-3e3a-4dee-da88-22d4e9096673",
        "colab": {
          "base_uri": "https://localhost:8080/",
          "height": 125
        }
      },
      "source": [
        "from google.colab import drive\n",
        "drive.mount('/content/drive')"
      ],
      "execution_count": 0,
      "outputs": [
        {
          "output_type": "stream",
          "text": [
            "Go to this URL in a browser: https://accounts.google.com/o/oauth2/auth?client_id=947318989803-6bn6qk8qdgf4n4g3pfee6491hc0brc4i.apps.googleusercontent.com&redirect_uri=urn%3aietf%3awg%3aoauth%3a2.0%3aoob&response_type=code&scope=email%20https%3a%2f%2fwww.googleapis.com%2fauth%2fdocs.test%20https%3a%2f%2fwww.googleapis.com%2fauth%2fdrive%20https%3a%2f%2fwww.googleapis.com%2fauth%2fdrive.photos.readonly%20https%3a%2f%2fwww.googleapis.com%2fauth%2fpeopleapi.readonly\n",
            "\n",
            "Enter your authorization code:\n",
            "··········\n",
            "Mounted at /content/drive\n"
          ],
          "name": "stdout"
        }
      ]
    },
    {
      "cell_type": "markdown",
      "metadata": {
        "id": "znss2kovGzOI",
        "colab_type": "text"
      },
      "source": [
        "**Import necessary libraries and tools**"
      ]
    },
    {
      "cell_type": "code",
      "metadata": {
        "id": "eTHm1P4MEtIp",
        "colab_type": "code",
        "colab": {}
      },
      "source": [
        "from sklearn.model_selection import train_test_split\n",
        "import numpy as np\n",
        "import pandas as pd\n",
        "import matplotlib.pyplot as plt \n",
        "import scipy.io "
      ],
      "execution_count": 0,
      "outputs": []
    },
    {
      "cell_type": "code",
      "metadata": {
        "id": "LrdkZCXrHReK",
        "colab_type": "code",
        "colab": {}
      },
      "source": [
        "root_path = \"/content/drive/My Drive/CinnamonAI/Gaussian-Model/\""
      ],
      "execution_count": 0,
      "outputs": []
    },
    {
      "cell_type": "code",
      "metadata": {
        "id": "RTx-WTvyG4sd",
        "colab_type": "code",
        "colab": {}
      },
      "source": [
        "#loading data and split X,y features.\n",
        "data = scipy.io.loadmat(root_path+\"cardio.mat\")\n",
        "X = data[\"X\"]\n",
        "y= data[\"y\"]"
      ],
      "execution_count": 0,
      "outputs": []
    },
    {
      "cell_type": "code",
      "metadata": {
        "id": "M85EtRk-O4dj",
        "colab_type": "code",
        "colab": {}
      },
      "source": [
        "pd.Series(y[:,0])[1650:1700]"
      ],
      "execution_count": 0,
      "outputs": []
    },
    {
      "cell_type": "markdown",
      "metadata": {
        "id": "5r-0OCXyPvg9",
        "colab_type": "text"
      },
      "source": [
        "**Previous cell show that abnormal instances end at 1655 index**"
      ]
    },
    {
      "cell_type": "code",
      "metadata": {
        "id": "o0_iVaaNPrxc",
        "colab_type": "code",
        "colab": {}
      },
      "source": [
        "#splitting train test base on previous anomaly ratio of train test samples\n",
        "X_train = X[:1655]\n",
        "X_test = X[1655:]"
      ],
      "execution_count": 0,
      "outputs": []
    },
    {
      "cell_type": "code",
      "metadata": {
        "id": "10IxvgdzLiEr",
        "colab_type": "code",
        "outputId": "875764f8-3a84-4a1f-ee78-8d4f763467b7",
        "colab": {
          "base_uri": "https://localhost:8080/",
          "height": 282
        }
      },
      "source": [
        "X_first_two_features = X_train[:,14:16]\n",
        "df = pd.DataFrame(X_first_two_features)\n",
        "plt.scatter(df[0],df[1])"
      ],
      "execution_count": 0,
      "outputs": [
        {
          "output_type": "execute_result",
          "data": {
            "text/plain": [
              "<matplotlib.collections.PathCollection at 0x7fe0c629c2e8>"
            ]
          },
          "metadata": {
            "tags": []
          },
          "execution_count": 71
        },
        {
          "output_type": "display_data",
          "data": {
            "image/png": "[encoded data removed]",
            "text/plain": [
              "<Figure size 432x288 with 1 Axes>"
            ]
          },
          "metadata": {
            "tags": []
          }
        }
      ]
    },
    {
      "cell_type": "markdown",
      "metadata": {
        "id": "ag84Bm3MMFbi",
        "colab_type": "text"
      },
      "source": [
        "**GMM-sklearn**"
      ]
    },
    {
      "cell_type": "code",
      "metadata": {
        "id": "3I8i3mrQMEYB",
        "colab_type": "code",
        "colab": {}
      },
      "source": [
        "from sklearn.mixture import GaussianMixture"
      ],
      "execution_count": 0,
      "outputs": []
    },
    {
      "cell_type": "code",
      "metadata": {
        "id": "D7f6uTejMOR_",
        "colab_type": "code",
        "outputId": "181879cb-a5b2-4137-c0ce-3932a5227ab9",
        "colab": {
          "base_uri": "https://localhost:8080/",
          "height": 87
        }
      },
      "source": [
        "gmm = GaussianMixture(n_components=3)\n",
        "gmm.fit(df)"
      ],
      "execution_count": 0,
      "outputs": [
        {
          "output_type": "execute_result",
          "data": {
            "text/plain": [
              "GaussianMixture(covariance_type='full', init_params='kmeans', max_iter=100,\n",
              "                means_init=None, n_components=3, n_init=1, precisions_init=None,\n",
              "                random_state=None, reg_covar=1e-06, tol=0.001, verbose=0,\n",
              "                verbose_interval=10, warm_start=False, weights_init=None)"
            ]
          },
          "metadata": {
            "tags": []
          },
          "execution_count": 73
        }
      ]
    },
    {
      "cell_type": "code",
      "metadata": {
        "id": "qWGdbGTAMnv7",
        "colab_type": "code",
        "colab": {}
      },
      "source": [
        "labels = gmm.predict(df) \n",
        "df['labels']= labels\n",
        "d0 = df[df['labels']== 0] \n",
        "d1 = df[df['labels']== 1]\n",
        "d2 = df[df['labels']== 2] "
      ],
      "execution_count": 0,
      "outputs": []
    },
    {
      "cell_type": "code",
      "metadata": {
        "id": "KZu3yDZPNGdu",
        "colab_type": "code",
        "outputId": "8461ff3a-14a1-4551-b25a-e3c80448aeea",
        "colab": {
          "base_uri": "https://localhost:8080/",
          "height": 282
        }
      },
      "source": [
        "plt.scatter(d0[0], d0[1], c ='r') \n",
        "plt.scatter(d1[0], d1[1], c ='yellow') \n",
        "plt.scatter(d2[0], d2[1], c ='b') \n"
      ],
      "execution_count": 0,
      "outputs": [
        {
          "output_type": "execute_result",
          "data": {
            "text/plain": [
              "<matplotlib.collections.PathCollection at 0x7fe0c627fd68>"
            ]
          },
          "metadata": {
            "tags": []
          },
          "execution_count": 75
        },
        {
          "output_type": "display_data",
          "data": {
            "image/png": "[encoded data removed]",
            "text/plain": [
              "<Figure size 432x288 with 1 Axes>"
            ]
          },
          "metadata": {
            "tags": []
          }
        }
      ]
    }
  ]
}