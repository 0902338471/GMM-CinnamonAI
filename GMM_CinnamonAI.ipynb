{
  "nbformat": 4,
  "nbformat_minor": 0,
  "metadata": {
    "colab": {
      "name": "GMM-CinnamonAI.ipynb",
      "provenance": [],
      "collapsed_sections": [],
      "authorship_tag": "ABX9TyNnKxd+8JzdoS/gj7qNtOPA",
      "include_colab_link": true
    },
    "kernelspec": {
      "name": "python3",
      "display_name": "Python 3"
    },
    "accelerator": "GPU"
  },
  "cells": [
    {
      "cell_type": "markdown",
      "metadata": {
        "id": "view-in-github",
        "colab_type": "text"
      },
      "source": [
        "<a href=\"https://colab.research.google.com/github/0902338471/GMM-CinnamonAI/blob/master/GMM_CinnamonAI.ipynb\" target=\"_parent\"><img src=\"https://colab.research.google.com/assets/colab-badge.svg\" alt=\"Open In Colab\"/></a>"
      ]
    },
    {
      "cell_type": "code",
      "metadata": {
        "id": "5vxUiLeBEmau",
        "colab_type": "code",
        "outputId": "db26acb2-b006-468a-c471-f6aa9da3e0da",
        "colab": {
          "base_uri": "https://localhost:8080/",
          "height": 34
        }
      },
      "source": [
        "from google.colab import drive\n",
        "drive.mount('/content/drive')"
      ],
      "execution_count": 214,
      "outputs": [
        {
          "output_type": "stream",
          "text": [
            "Drive already mounted at /content/drive; to attempt to forcibly remount, call drive.mount(\"/content/drive\", force_remount=True).\n"
          ],
          "name": "stdout"
        }
      ]
    },
    {
      "cell_type": "markdown",
      "metadata": {
        "id": "znss2kovGzOI",
        "colab_type": "text"
      },
      "source": [
        "**Import necessary libraries and tools**"
      ]
    },
    {
      "cell_type": "code",
      "metadata": {
        "id": "eTHm1P4MEtIp",
        "colab_type": "code",
        "colab": {}
      },
      "source": [
        "from sklearn.model_selection import train_test_split\n",
        "import numpy as np\n",
        "import pandas as pd\n",
        "import matplotlib.pyplot as plt \n",
        "import scipy.io "
      ],
      "execution_count": 0,
      "outputs": []
    },
    {
      "cell_type": "code",
      "metadata": {
        "id": "LrdkZCXrHReK",
        "colab_type": "code",
        "colab": {}
      },
      "source": [
        "root_path = \"/content/drive/My Drive/CinnamonAI/Gaussian-Model/\""
      ],
      "execution_count": 0,
      "outputs": []
    },
    {
      "cell_type": "code",
      "metadata": {
        "id": "RTx-WTvyG4sd",
        "colab_type": "code",
        "colab": {}
      },
      "source": [
        "#loading data and split X,y features.\n",
        "data = scipy.io.loadmat(root_path+\"cardio.mat\")\n",
        "X = data[\"X\"]\n",
        "y= data[\"y\"]"
      ],
      "execution_count": 0,
      "outputs": []
    },
    {
      "cell_type": "markdown",
      "metadata": {
        "id": "D57ZgrzkMBGy",
        "colab_type": "text"
      },
      "source": [
        "**Splitting Dataset**"
      ]
    },
    {
      "cell_type": "code",
      "metadata": {
        "id": "3xl7YrAnMAN3",
        "colab_type": "code",
        "colab": {}
      },
      "source": [
        "df = pd.DataFrame(X)\n",
        "df['normal_label']=y"
      ],
      "execution_count": 0,
      "outputs": []
    },
    {
      "cell_type": "code",
      "metadata": {
        "id": "kr-0FkyeQQY9",
        "colab_type": "code",
        "outputId": "34d5a4c1-0116-4b97-d92b-cf152f2a1603",
        "colab": {
          "base_uri": "https://localhost:8080/",
          "height": 426
        }
      },
      "source": [
        "df"
      ],
      "execution_count": 219,
      "outputs": [
        {
          "output_type": "execute_result",
          "data": {
            "text/html": [
              "<div>\n",
              "<style scoped>\n",
              "    .dataframe tbody tr th:only-of-type {\n",
              "        vertical-align: middle;\n",
              "    }\n",
              "\n",
              "    .dataframe tbody tr th {\n",
              "        vertical-align: top;\n",
              "    }\n",
              "\n",
              "    .dataframe thead th {\n",
              "        text-align: right;\n",
              "    }\n",
              "</style>\n",
              "<table border=\"1\" class=\"dataframe\">\n",
              "  <thead>\n",
              "    <tr style=\"text-align: right;\">\n",
              "      <th></th>\n",
              "      <th>0</th>\n",
              "      <th>1</th>\n",
              "      <th>2</th>\n",
              "      <th>3</th>\n",
              "      <th>4</th>\n",
              "      <th>5</th>\n",
              "      <th>6</th>\n",
              "      <th>7</th>\n",
              "      <th>8</th>\n",
              "      <th>9</th>\n",
              "      <th>10</th>\n",
              "      <th>11</th>\n",
              "      <th>12</th>\n",
              "      <th>13</th>\n",
              "      <th>14</th>\n",
              "      <th>15</th>\n",
              "      <th>16</th>\n",
              "      <th>17</th>\n",
              "      <th>18</th>\n",
              "      <th>19</th>\n",
              "      <th>20</th>\n",
              "      <th>normal_label</th>\n",
              "    </tr>\n",
              "  </thead>\n",
              "  <tbody>\n",
              "    <tr>\n",
              "      <th>0</th>\n",
              "      <td>0.004912</td>\n",
              "      <td>0.693191</td>\n",
              "      <td>-0.203640</td>\n",
              "      <td>0.595322</td>\n",
              "      <td>0.353190</td>\n",
              "      <td>-0.061401</td>\n",
              "      <td>-0.278295</td>\n",
              "      <td>-1.650444</td>\n",
              "      <td>0.759072</td>\n",
              "      <td>-0.420487</td>\n",
              "      <td>0.372149</td>\n",
              "      <td>1.485973</td>\n",
              "      <td>-0.798376</td>\n",
              "      <td>1.854728</td>\n",
              "      <td>0.622631</td>\n",
              "      <td>0.963083</td>\n",
              "      <td>0.301464</td>\n",
              "      <td>0.193113</td>\n",
              "      <td>0.231498</td>\n",
              "      <td>-0.289786</td>\n",
              "      <td>-0.493294</td>\n",
              "      <td>0.0</td>\n",
              "    </tr>\n",
              "    <tr>\n",
              "      <th>1</th>\n",
              "      <td>0.110729</td>\n",
              "      <td>-0.079903</td>\n",
              "      <td>-0.203640</td>\n",
              "      <td>1.268942</td>\n",
              "      <td>0.396246</td>\n",
              "      <td>-0.061401</td>\n",
              "      <td>-0.278295</td>\n",
              "      <td>-1.710270</td>\n",
              "      <td>0.759072</td>\n",
              "      <td>-0.420487</td>\n",
              "      <td>0.882794</td>\n",
              "      <td>1.485973</td>\n",
              "      <td>-0.798376</td>\n",
              "      <td>1.854728</td>\n",
              "      <td>0.278625</td>\n",
              "      <td>0.963083</td>\n",
              "      <td>0.301464</td>\n",
              "      <td>0.129265</td>\n",
              "      <td>0.093563</td>\n",
              "      <td>-0.256385</td>\n",
              "      <td>-0.493294</td>\n",
              "      <td>0.0</td>\n",
              "    </tr>\n",
              "    <tr>\n",
              "      <th>2</th>\n",
              "      <td>0.216546</td>\n",
              "      <td>-0.272445</td>\n",
              "      <td>-0.203640</td>\n",
              "      <td>1.050988</td>\n",
              "      <td>0.148753</td>\n",
              "      <td>-0.061401</td>\n",
              "      <td>-0.278295</td>\n",
              "      <td>-1.710270</td>\n",
              "      <td>1.106509</td>\n",
              "      <td>-0.420487</td>\n",
              "      <td>2.516859</td>\n",
              "      <td>1.141780</td>\n",
              "      <td>-1.332931</td>\n",
              "      <td>0.314688</td>\n",
              "      <td>2.342663</td>\n",
              "      <td>-0.488279</td>\n",
              "      <td>0.061002</td>\n",
              "      <td>0.065417</td>\n",
              "      <td>0.024596</td>\n",
              "      <td>-0.256385</td>\n",
              "      <td>1.140018</td>\n",
              "      <td>0.0</td>\n",
              "    </tr>\n",
              "    <tr>\n",
              "      <th>3</th>\n",
              "      <td>0.004912</td>\n",
              "      <td>0.727346</td>\n",
              "      <td>-0.203640</td>\n",
              "      <td>1.212171</td>\n",
              "      <td>-0.683598</td>\n",
              "      <td>-0.061401</td>\n",
              "      <td>-0.278295</td>\n",
              "      <td>-1.710270</td>\n",
              "      <td>1.106509</td>\n",
              "      <td>-0.420487</td>\n",
              "      <td>1.989193</td>\n",
              "      <td>1.141780</td>\n",
              "      <td>-1.332931</td>\n",
              "      <td>0.314688</td>\n",
              "      <td>1.654650</td>\n",
              "      <td>-0.488279</td>\n",
              "      <td>0.061002</td>\n",
              "      <td>0.193113</td>\n",
              "      <td>0.093563</td>\n",
              "      <td>-0.323186</td>\n",
              "      <td>1.140018</td>\n",
              "      <td>0.0</td>\n",
              "    </tr>\n",
              "    <tr>\n",
              "      <th>4</th>\n",
              "      <td>-0.100905</td>\n",
              "      <td>0.363595</td>\n",
              "      <td>1.321366</td>\n",
              "      <td>1.027120</td>\n",
              "      <td>0.141359</td>\n",
              "      <td>-0.061401</td>\n",
              "      <td>-0.278295</td>\n",
              "      <td>-0.992364</td>\n",
              "      <td>-0.051613</td>\n",
              "      <td>-0.420487</td>\n",
              "      <td>0.797687</td>\n",
              "      <td>-0.208514</td>\n",
              "      <td>-0.085638</td>\n",
              "      <td>-0.565334</td>\n",
              "      <td>0.278625</td>\n",
              "      <td>-0.488279</td>\n",
              "      <td>-0.059229</td>\n",
              "      <td>0.065417</td>\n",
              "      <td>0.024596</td>\n",
              "      <td>-0.456787</td>\n",
              "      <td>1.140018</td>\n",
              "      <td>0.0</td>\n",
              "    </tr>\n",
              "    <tr>\n",
              "      <th>...</th>\n",
              "      <td>...</td>\n",
              "      <td>...</td>\n",
              "      <td>...</td>\n",
              "      <td>...</td>\n",
              "      <td>...</td>\n",
              "      <td>...</td>\n",
              "      <td>...</td>\n",
              "      <td>...</td>\n",
              "      <td>...</td>\n",
              "      <td>...</td>\n",
              "      <td>...</td>\n",
              "      <td>...</td>\n",
              "      <td>...</td>\n",
              "      <td>...</td>\n",
              "      <td>...</td>\n",
              "      <td>...</td>\n",
              "      <td>...</td>\n",
              "      <td>...</td>\n",
              "      <td>...</td>\n",
              "      <td>...</td>\n",
              "      <td>...</td>\n",
              "      <td>...</td>\n",
              "    </tr>\n",
              "    <tr>\n",
              "      <th>1826</th>\n",
              "      <td>-0.418356</td>\n",
              "      <td>-0.919988</td>\n",
              "      <td>-0.161178</td>\n",
              "      <td>0.829564</td>\n",
              "      <td>0.953023</td>\n",
              "      <td>-0.061401</td>\n",
              "      <td>3.060819</td>\n",
              "      <td>1.221178</td>\n",
              "      <td>1.338133</td>\n",
              "      <td>-0.420487</td>\n",
              "      <td>-1.398088</td>\n",
              "      <td>1.459497</td>\n",
              "      <td>-0.976561</td>\n",
              "      <td>1.524719</td>\n",
              "      <td>0.622631</td>\n",
              "      <td>-0.488279</td>\n",
              "      <td>-1.982928</td>\n",
              "      <td>-2.616202</td>\n",
              "      <td>-1.561651</td>\n",
              "      <td>0.244620</td>\n",
              "      <td>-0.493294</td>\n",
              "      <td>1.0</td>\n",
              "    </tr>\n",
              "    <tr>\n",
              "      <th>1827</th>\n",
              "      <td>-0.418356</td>\n",
              "      <td>-0.919988</td>\n",
              "      <td>-0.171055</td>\n",
              "      <td>0.796630</td>\n",
              "      <td>0.823510</td>\n",
              "      <td>-0.061401</td>\n",
              "      <td>3.565299</td>\n",
              "      <td>1.281003</td>\n",
              "      <td>1.453945</td>\n",
              "      <td>-0.420487</td>\n",
              "      <td>-1.398088</td>\n",
              "      <td>1.459497</td>\n",
              "      <td>-0.976561</td>\n",
              "      <td>1.524719</td>\n",
              "      <td>-0.065382</td>\n",
              "      <td>-0.488279</td>\n",
              "      <td>-1.862696</td>\n",
              "      <td>-2.807747</td>\n",
              "      <td>-1.699585</td>\n",
              "      <td>0.010817</td>\n",
              "      <td>-0.493294</td>\n",
              "      <td>1.0</td>\n",
              "    </tr>\n",
              "    <tr>\n",
              "      <th>1828</th>\n",
              "      <td>-0.418356</td>\n",
              "      <td>-0.919988</td>\n",
              "      <td>-0.164635</td>\n",
              "      <td>0.952396</td>\n",
              "      <td>1.120470</td>\n",
              "      <td>-0.061401</td>\n",
              "      <td>2.788995</td>\n",
              "      <td>1.221178</td>\n",
              "      <td>1.222321</td>\n",
              "      <td>-0.420487</td>\n",
              "      <td>-1.398088</td>\n",
              "      <td>1.459497</td>\n",
              "      <td>-0.976561</td>\n",
              "      <td>1.524719</td>\n",
              "      <td>0.622631</td>\n",
              "      <td>-0.488279</td>\n",
              "      <td>-1.922812</td>\n",
              "      <td>-2.488506</td>\n",
              "      <td>-1.492683</td>\n",
              "      <td>0.244620</td>\n",
              "      <td>-0.493294</td>\n",
              "      <td>1.0</td>\n",
              "    </tr>\n",
              "    <tr>\n",
              "      <th>1829</th>\n",
              "      <td>-0.418356</td>\n",
              "      <td>-0.919988</td>\n",
              "      <td>-0.150934</td>\n",
              "      <td>0.695726</td>\n",
              "      <td>1.212428</td>\n",
              "      <td>-0.061401</td>\n",
              "      <td>2.484822</td>\n",
              "      <td>1.221178</td>\n",
              "      <td>1.222321</td>\n",
              "      <td>-0.420487</td>\n",
              "      <td>-1.398088</td>\n",
              "      <td>1.459497</td>\n",
              "      <td>-0.976561</td>\n",
              "      <td>1.524719</td>\n",
              "      <td>0.278625</td>\n",
              "      <td>-0.488279</td>\n",
              "      <td>-1.321656</td>\n",
              "      <td>-2.296962</td>\n",
              "      <td>-1.423716</td>\n",
              "      <td>0.144419</td>\n",
              "      <td>-0.493294</td>\n",
              "      <td>1.0</td>\n",
              "    </tr>\n",
              "    <tr>\n",
              "      <th>1830</th>\n",
              "      <td>-0.418356</td>\n",
              "      <td>-0.919988</td>\n",
              "      <td>-0.203640</td>\n",
              "      <td>1.173282</td>\n",
              "      <td>2.579786</td>\n",
              "      <td>-0.061401</td>\n",
              "      <td>-0.278295</td>\n",
              "      <td>1.101527</td>\n",
              "      <td>3.191128</td>\n",
              "      <td>-0.420487</td>\n",
              "      <td>-1.398088</td>\n",
              "      <td>0.426919</td>\n",
              "      <td>-0.869650</td>\n",
              "      <td>-0.455331</td>\n",
              "      <td>0.278625</td>\n",
              "      <td>-0.488279</td>\n",
              "      <td>-4.026857</td>\n",
              "      <td>-3.829316</td>\n",
              "      <td>-1.285782</td>\n",
              "      <td>3.584653</td>\n",
              "      <td>-0.493294</td>\n",
              "      <td>1.0</td>\n",
              "    </tr>\n",
              "  </tbody>\n",
              "</table>\n",
              "<p>1831 rows × 22 columns</p>\n",
              "</div>"
            ],
            "text/plain": [
              "             0         1         2  ...        19        20  normal_label\n",
              "0     0.004912  0.693191 -0.203640  ... -0.289786 -0.493294           0.0\n",
              "1     0.110729 -0.079903 -0.203640  ... -0.256385 -0.493294           0.0\n",
              "2     0.216546 -0.272445 -0.203640  ... -0.256385  1.140018           0.0\n",
              "3     0.004912  0.727346 -0.203640  ... -0.323186  1.140018           0.0\n",
              "4    -0.100905  0.363595  1.321366  ... -0.456787  1.140018           0.0\n",
              "...        ...       ...       ...  ...       ...       ...           ...\n",
              "1826 -0.418356 -0.919988 -0.161178  ...  0.244620 -0.493294           1.0\n",
              "1827 -0.418356 -0.919988 -0.171055  ...  0.010817 -0.493294           1.0\n",
              "1828 -0.418356 -0.919988 -0.164635  ...  0.244620 -0.493294           1.0\n",
              "1829 -0.418356 -0.919988 -0.150934  ...  0.144419 -0.493294           1.0\n",
              "1830 -0.418356 -0.919988 -0.203640  ...  3.584653 -0.493294           1.0\n",
              "\n",
              "[1831 rows x 22 columns]"
            ]
          },
          "metadata": {
            "tags": []
          },
          "execution_count": 219
        }
      ]
    },
    {
      "cell_type": "code",
      "metadata": {
        "id": "lkF6OE6gMaW9",
        "colab_type": "code",
        "colab": {}
      },
      "source": [
        "X_train = df[df['normal_label']==0].drop(labels='normal_label',axis=1).to_numpy()"
      ],
      "execution_count": 0,
      "outputs": []
    },
    {
      "cell_type": "markdown",
      "metadata": {
        "id": "lOU6sFefn6gT",
        "colab_type": "text"
      },
      "source": [
        "**Visulizing and selecting two random features of X_train**"
      ]
    },
    {
      "cell_type": "code",
      "metadata": {
        "id": "m43yiiARvt1o",
        "colab_type": "code",
        "colab": {}
      },
      "source": [
        "X_train_candidate_features = X_train[:,2:4]\n",
        "X_train_candidate_features = pd.DataFrame(X_train_candidate_features)"
      ],
      "execution_count": 0,
      "outputs": []
    },
    {
      "cell_type": "code",
      "metadata": {
        "id": "tcJqlA4goESA",
        "colab_type": "code",
        "outputId": "26b10bd0-6a71-4368-b8a1-8907f361cbb9",
        "colab": {
          "base_uri": "https://localhost:8080/",
          "height": 282
        }
      },
      "source": [
        "plt.scatter(X_train_candidate_features[0],X_train_candidate_features[1])"
      ],
      "execution_count": 222,
      "outputs": [
        {
          "output_type": "execute_result",
          "data": {
            "text/plain": [
              "<matplotlib.collections.PathCollection at 0x7f375655ea90>"
            ]
          },
          "metadata": {
            "tags": []
          },
          "execution_count": 222
        },
        {
          "output_type": "display_data",
          "data": {
            "image/png": "[encoded data removed]",
            "text/plain": [
              "<Figure size 432x288 with 1 Axes>"
            ]
          },
          "metadata": {
            "tags": []
          }
        }
      ]
    },
    {
      "cell_type": "markdown",
      "metadata": {
        "id": "ag84Bm3MMFbi",
        "colab_type": "text"
      },
      "source": [
        "**GMM-sklearn**"
      ]
    },
    {
      "cell_type": "code",
      "metadata": {
        "id": "3I8i3mrQMEYB",
        "colab_type": "code",
        "colab": {}
      },
      "source": [
        "from sklearn.mixture import GaussianMixture"
      ],
      "execution_count": 0,
      "outputs": []
    },
    {
      "cell_type": "code",
      "metadata": {
        "id": "D7f6uTejMOR_",
        "colab_type": "code",
        "outputId": "efe74254-ab91-49db-e15b-6f4eaa7791f4",
        "colab": {
          "base_uri": "https://localhost:8080/",
          "height": 87
        }
      },
      "source": [
        "gmm = GaussianMixture(n_components=3)\n",
        "gmm.fit(X_train_candidate_features)"
      ],
      "execution_count": 224,
      "outputs": [
        {
          "output_type": "execute_result",
          "data": {
            "text/plain": [
              "GaussianMixture(covariance_type='full', init_params='kmeans', max_iter=100,\n",
              "                means_init=None, n_components=3, n_init=1, precisions_init=None,\n",
              "                random_state=None, reg_covar=1e-06, tol=0.001, verbose=0,\n",
              "                verbose_interval=10, warm_start=False, weights_init=None)"
            ]
          },
          "metadata": {
            "tags": []
          },
          "execution_count": 224
        }
      ]
    },
    {
      "cell_type": "code",
      "metadata": {
        "id": "qWGdbGTAMnv7",
        "colab_type": "code",
        "colab": {}
      },
      "source": [
        "labels = gmm.predict(X_train_candidate_features) \n",
        "X_train_candidate_features['labels']= labels\n",
        "d0 = X_train_candidate_features[X_train_candidate_features['labels']== 0] \n",
        "d1 = X_train_candidate_features[X_train_candidate_features['labels']== 1]\n",
        "d2 = X_train_candidate_features[X_train_candidate_features['labels']== 2] "
      ],
      "execution_count": 0,
      "outputs": []
    },
    {
      "cell_type": "code",
      "metadata": {
        "id": "KZu3yDZPNGdu",
        "colab_type": "code",
        "outputId": "9cbd956f-8b6c-46d4-d58b-c96384d8a020",
        "colab": {
          "base_uri": "https://localhost:8080/",
          "height": 282
        }
      },
      "source": [
        "plt.scatter(d0[0], d0[1], c ='r') \n",
        "plt.scatter(d1[0], d1[1], c ='yellow') \n",
        "plt.scatter(d2[0], d2[1], c ='b') \n"
      ],
      "execution_count": 226,
      "outputs": [
        {
          "output_type": "execute_result",
          "data": {
            "text/plain": [
              "<matplotlib.collections.PathCollection at 0x7f375651dbe0>"
            ]
          },
          "metadata": {
            "tags": []
          },
          "execution_count": 226
        },
        {
          "output_type": "display_data",
          "data": {
            "image/png": "[encoded data removed]",
            "text/plain": [
              "<Figure size 432x288 with 1 Axes>"
            ]
          },
          "metadata": {
            "tags": []
          }
        }
      ]
    },
    {
      "cell_type": "markdown",
      "metadata": {
        "id": "lzsP0xJyjHYW",
        "colab_type": "text"
      },
      "source": [
        "**GMM Scratch**"
      ]
    },
    {
      "cell_type": "code",
      "metadata": {
        "id": "f0rgxpAVnBad",
        "colab_type": "code",
        "colab": {}
      },
      "source": [
        "from scipy.stats import multivariate_normal \n",
        "import copy"
      ],
      "execution_count": 0,
      "outputs": []
    },
    {
      "cell_type": "code",
      "metadata": {
        "id": "J0xyPeZyjGf8",
        "colab_type": "code",
        "colab": {}
      },
      "source": [
        "class GMM_Model:\n",
        "  def __init__(self,num_clusters):\n",
        "    self.num_clusters = num_clusters\n",
        "\n",
        "  def init_clusters(self,X):\n",
        "    #naive initialization of clusters(random generating):\n",
        "    clusters = []\n",
        "    coefficient_sum = 0.0\n",
        "    for i in range(self.num_clusters):\n",
        "      tmp_cluster = {}\n",
        "      tmp_cluster['clusters_mean'] = np.random.randn(self.num_features)\n",
        "      #simple steps to provide positive semi-definite covariance matrix\n",
        "      tmp_matrix = np.random.randn(self.num_features,self.num_features)\n",
        "      tmp_cluster['clusters_covariance'] = np.dot(tmp_matrix, np.transpose(tmp_matrix))\n",
        "      tmp_cluster['clusters_coefficient'] = abs(np.random.randn())\n",
        "      coefficient_sum += tmp_cluster['clusters_coefficient']\n",
        "      clusters.append(copy.copy(tmp_cluster))\n",
        "    #ensuring sum of clusters_coefficient equals to one\n",
        "    for cluster in clusters:\n",
        "      cluster['clusters_coefficient'] /= coefficient_sum\n",
        "    return clusters\n",
        "\n",
        "  def gaussian_distribution(self,x,mean_var,covariance_var):\n",
        "    return multivariate_normal.pdf(x,mean=mean_var,cov=covariance_var,allow_singular=True)\n",
        "  def evaluate_all_responsibilities(self,clusters,X):\n",
        "    respons_matrix = []\n",
        "    for example in X:\n",
        "      total_score = 0.0\n",
        "      prob_array = []\n",
        "      for cluster in clusters:\n",
        "        score = cluster['clusters_coefficient']*self.gaussian_distribution(example,cluster['clusters_mean'],cluster['clusters_covariance'])\n",
        "        total_score += score\n",
        "        prob_array.append(score)\n",
        "      prob_array = prob_array/total_score\n",
        "      respons_matrix.append(copy.copy(prob_array))\n",
        "    return respons_matrix\n",
        "  def covariance_matrix(self,cluster,X):\n",
        "    cova_matrix_list = []\n",
        "    for example in X:\n",
        "      cova_matrix = (example-cluster['clusters_mean']).reshape(self.num_features,1)*(example-cluster['clusters_mean']).reshape(1,self.num_features)\n",
        "      cova_matrix_list.append(copy.copy(cova_matrix))\n",
        "    return cova_matrix_list\n",
        "  def estimate_params(self,clusters,X,respons_matrix):\n",
        "    for index_cluster,cluster in enumerate(clusters):\n",
        "      weight_cluster = np.transpose(respons_matrix)[index_cluster]\n",
        "      new_mean = np.average(X, weights=weight_cluster,axis=0)\n",
        "      clusters[index_cluster]['clusters_mean'] = copy.copy(new_mean)\n",
        "      cova_matrix_list = self.covariance_matrix(clusters[index_cluster],X)\n",
        "      new_covariance = np.average(cova_matrix_list,weights=weight_cluster,axis=0)\n",
        "      new_coefficient = np.sum(weight_cluster)/self.num_examples\n",
        "      clusters[index_cluster]['clusters_covariance'] = copy.copy(new_covariance)\n",
        "      clusters[index_cluster]['clusters_coefficient'] = copy.copy(new_coefficient)\n",
        "    return clusters\n",
        "  def evaluate_log_likelihood(self,clusters,X,respons_matrix):\n",
        "    matrix_score = np.zeros((self.num_examples,self.num_clusters))\n",
        "    for index_example,example in enumerate(X):\n",
        "      for index_cluster,cluster in enumerate(clusters):\n",
        "        matrix_score[index_example][index_cluster] = cluster['clusters_coefficient']*self.gaussian_distribution(example,cluster['clusters_mean'],cluster['clusters_covariance'])\n",
        "    final_score = np.sum(np.log(np.sum(matrix_score,axis=1)))\n",
        "    print(\"Score:\",final_score)\n",
        "  def fit(self,X,num_steps):\n",
        "    self.num_features = len(X[0])\n",
        "    self.num_examples = len(X)\n",
        "    #initialize parameters\n",
        "    clusters = self.init_clusters(X)\n",
        "    #EM process\n",
        "    self.num_steps = num_steps\n",
        "    for i in range(self.num_steps):\n",
        "      print(\"Step \",i+1)\n",
        "      #calculate responsibilities\n",
        "      respons_matrix = self.evaluate_all_responsibilities(clusters,X)\n",
        "      #re-estimate parameters\n",
        "      clusters = self.estimate_params(clusters,X,respons_matrix)\n",
        "      #evaluate log-likelihood function\n",
        "      current_score = self.evaluate_log_likelihood(clusters,X,respons_matrix)\n",
        "    return clusters\n",
        "  def predict_class(self,X,clusters):\n",
        "    label = []\n",
        "    respons_matrix = self.evaluate_all_responsibilities(clusters,X)\n",
        "    for example_score in respons_matrix:\n",
        "      label.append(np.argmax(example_score))\n",
        "    return label\n",
        "  def produce_threshold(self,X,clusters):\n",
        "    respons_matrix = self.evaluate_all_responsibilities(clusters,X)\n",
        "    #returning min of respons_matrix as threshold for predicting abnormal data\n",
        "    return np.min(np.asarray(respons_matrix))\n",
        "  def calculating_score(self,x,clusters):\n",
        "    respons_matrix = self.evaluate_all_responsibilities(clusters,[x])\n",
        "    return np.max(np.asarray(respons_matrix))\n",
        "  def predict_abnormal(self,example,clusters,thresh_hold):\n",
        "    score = self.calculating_score(example,clusters)\n",
        "    return score<thresh_hold\n"
      ],
      "execution_count": 0,
      "outputs": []
    },
    {
      "cell_type": "markdown",
      "metadata": {
        "id": "TXl6uQAK_yYT",
        "colab_type": "text"
      },
      "source": [
        "**Fix two random features**"
      ]
    },
    {
      "cell_type": "code",
      "metadata": {
        "colab_type": "code",
        "id": "ouNq5ASdBc8o",
        "colab": {}
      },
      "source": [
        "gaussian_model = GMM_Model(num_clusters=3)"
      ],
      "execution_count": 0,
      "outputs": []
    },
    {
      "cell_type": "code",
      "metadata": {
        "id": "ZFAMk6pV0nBQ",
        "colab_type": "code",
        "outputId": "18c3ca7b-3a7a-4ccd-a6cb-4aec1aff6036",
        "colab": {
          "base_uri": "https://localhost:8080/",
          "height": 727
        }
      },
      "source": [
        "X_fit = X_train_candidate_features.to_numpy()\n",
        "clusters = gaussian_model.fit(X_fit,num_steps=20)"
      ],
      "execution_count": 233,
      "outputs": [
        {
          "output_type": "stream",
          "text": [
            "Step  1\n",
            "Score: -1176.7816458308812\n",
            "Step  2\n",
            "Score: -2412.3298786667438\n",
            "Step  3\n",
            "Score: -3624.598626832062\n",
            "Step  4\n",
            "Score: -1395.058581611953\n",
            "Step  5\n",
            "Score: -717.3400167481157\n",
            "Step  6\n",
            "Score: 592.2749940755369\n",
            "Step  7\n",
            "Score: 559.4960084030809\n",
            "Step  8\n",
            "Score: 1829.6923119468202\n",
            "Step  9\n",
            "Score: 2864.5623496410385\n",
            "Step  10\n",
            "Score: 9965.056736008895\n",
            "Step  11\n",
            "Score: -2259.764482368206\n",
            "Step  12\n",
            "Score: -3250.689321595699\n",
            "Step  13\n",
            "Score: -1184.0200268260796\n",
            "Step  14\n",
            "Score: -543.6277616105968\n",
            "Step  15\n",
            "Score: -190.35498720870936\n",
            "Step  16\n",
            "Score: 225.42674309702795\n",
            "Step  17\n",
            "Score: 602.5147312634116\n",
            "Step  18\n",
            "Score: 1096.4414814131308\n",
            "Step  19\n",
            "Score: 1832.2280189587955\n",
            "Step  20\n",
            "Score: 3276.6591727921686\n"
          ],
          "name": "stdout"
        }
      ]
    },
    {
      "cell_type": "code",
      "metadata": {
        "id": "sL8T-DZMA88n",
        "colab_type": "code",
        "colab": {}
      },
      "source": [
        "#clustering X_fit\n",
        "labels = gaussian_model.predict_class(X_fit,clusters) \n",
        "X_fit = pd.DataFrame(X_fit)\n",
        "X_fit['labels']= labels\n",
        "d4 = X_fit[X_fit['labels']== 0] \n",
        "d5 = X_fit[X_fit['labels']== 1]\n",
        "d6 = X_fit[X_fit['labels']== 2] "
      ],
      "execution_count": 0,
      "outputs": []
    },
    {
      "cell_type": "code",
      "metadata": {
        "id": "EKSBHQ4qCEX4",
        "colab_type": "code",
        "outputId": "6502d997-e806-49ee-b5db-9ff155d8a473",
        "colab": {
          "base_uri": "https://localhost:8080/",
          "height": 282
        }
      },
      "source": [
        "plt.scatter(d4[0], d4[1], c ='r') \n",
        "plt.scatter(d5[0], d5[1], c ='yellow') \n",
        "plt.scatter(d6[0], d6[1], c='blue')"
      ],
      "execution_count": 235,
      "outputs": [
        {
          "output_type": "execute_result",
          "data": {
            "text/plain": [
              "<matplotlib.collections.PathCollection at 0x7f37564bfdd8>"
            ]
          },
          "metadata": {
            "tags": []
          },
          "execution_count": 235
        },
        {
          "output_type": "display_data",
          "data": {
            "image/png": "[encoded data removed]",
            "text/plain": [
              "<Figure size 432x288 with 1 Axes>"
            ]
          },
          "metadata": {
            "tags": []
          }
        }
      ]
    },
    {
      "cell_type": "markdown",
      "metadata": {
        "id": "DxvaIcjO_6fu",
        "colab_type": "text"
      },
      "source": [
        "**Fix all features**"
      ]
    },
    {
      "cell_type": "code",
      "metadata": {
        "id": "SqRauodJ0H0A",
        "colab_type": "code",
        "colab": {}
      },
      "source": [
        "gaussian_model = GMM_Model(num_clusters=3)"
      ],
      "execution_count": 0,
      "outputs": []
    },
    {
      "cell_type": "code",
      "metadata": {
        "id": "WdeKBCfq_5uj",
        "colab_type": "code",
        "colab": {
          "base_uri": "https://localhost:8080/",
          "height": 727
        },
        "outputId": "99e1e67a-78e0-4251-a52e-37e9f2684465"
      },
      "source": [
        "X_fit_all = X_train\n",
        "clusters_all_features = gaussian_model.fit(X_fit_all,num_steps=20)"
      ],
      "execution_count": 237,
      "outputs": [
        {
          "output_type": "stream",
          "text": [
            "Step  1\n",
            "Score: -27788.556436084054\n",
            "Step  2\n",
            "Score: -26560.859162121295\n",
            "Step  3\n",
            "Score: -24881.27326779558\n",
            "Step  4\n",
            "Score: -23026.243001897747\n",
            "Step  5\n",
            "Score: -23554.29175684535\n",
            "Step  6\n",
            "Score: -22676.555279163713\n",
            "Step  7\n",
            "Score: -22440.886908853114\n",
            "Step  8\n",
            "Score: -22015.007012440547\n",
            "Step  9\n",
            "Score: -21657.966222622315\n",
            "Step  10\n",
            "Score: -21271.07884225755\n",
            "Step  11\n",
            "Score: -21074.74614463438\n",
            "Step  12\n",
            "Score: -20744.32247180477\n",
            "Step  13\n",
            "Score: -20119.893144198133\n",
            "Step  14\n",
            "Score: -13083.264832387282\n",
            "Step  15\n",
            "Score: -20072.907226960357\n",
            "Step  16\n",
            "Score: -10885.82633097117\n",
            "Step  17\n",
            "Score: -20660.038183325865\n",
            "Step  18\n",
            "Score: -18580.443695736976\n",
            "Step  19\n",
            "Score: -17297.440718520716\n",
            "Step  20\n",
            "Score: -18381.819671888945\n"
          ],
          "name": "stdout"
        }
      ]
    },
    {
      "cell_type": "markdown",
      "metadata": {
        "id": "MSOZZCHpALHL",
        "colab_type": "text"
      },
      "source": [
        "**Predict anomalies(all features)**"
      ]
    },
    {
      "cell_type": "code",
      "metadata": {
        "colab_type": "code",
        "id": "DyLHx96NASnZ",
        "colab": {}
      },
      "source": [
        "#predict anomalies\n",
        "X_test = df[df['normal_label']==1].drop(labels='normal_label',axis=1).to_numpy()"
      ],
      "execution_count": 0,
      "outputs": []
    },
    {
      "cell_type": "code",
      "metadata": {
        "colab_type": "code",
        "id": "jHF8QLb4AVrB",
        "colab": {}
      },
      "source": [
        "count = 0\n",
        "cur_thresh_hold = gaussian_model.produce_threshold(X_train,clusters_all_features)\n",
        "for example in X_test:\n",
        "  result = gaussian_model.predict_abnormal(example,clusters_all_features,cur_thresh_hold)\n",
        "  if(result == True):\n",
        "    count+=1"
      ],
      "execution_count": 0,
      "outputs": []
    }
  ]
}