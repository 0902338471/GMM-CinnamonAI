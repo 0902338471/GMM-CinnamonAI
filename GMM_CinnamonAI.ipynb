{
  "nbformat": 4,
  "nbformat_minor": 0,
  "metadata": {
    "colab": {
      "name": "GMM-CinnamonAI.ipynb",
      "provenance": [],
      "collapsed_sections": [],
      "authorship_tag": "ABX9TyNrQka+4AKsvSkNk8nOY4AT",
      "include_colab_link": true
    },
    "kernelspec": {
      "name": "python3",
      "display_name": "Python 3"
    },
    "accelerator": "GPU"
  },
  "cells": [
    {
      "cell_type": "markdown",
      "metadata": {
        "id": "view-in-github",
        "colab_type": "text"
      },
      "source": [
        "<a href=\"https://colab.research.google.com/github/0902338471/GMM-CinnamonAI/blob/master/GMM_CinnamonAI.ipynb\" target=\"_parent\"><img src=\"https://colab.research.google.com/assets/colab-badge.svg\" alt=\"Open In Colab\"/></a>"
      ]
    },
    {
      "cell_type": "code",
      "metadata": {
        "id": "5vxUiLeBEmau",
        "colab_type": "code",
        "outputId": "7911275a-4bf6-4c70-d5d6-ab41c3e9c9d2",
        "colab": {
          "base_uri": "https://localhost:8080/",
          "height": 34
        }
      },
      "source": [
        "from google.colab import drive\n",
        "drive.mount('/content/drive')"
      ],
      "execution_count": 5,
      "outputs": [
        {
          "output_type": "stream",
          "text": [
            "Drive already mounted at /content/drive; to attempt to forcibly remount, call drive.mount(\"/content/drive\", force_remount=True).\n"
          ],
          "name": "stdout"
        }
      ]
    },
    {
      "cell_type": "markdown",
      "metadata": {
        "id": "znss2kovGzOI",
        "colab_type": "text"
      },
      "source": [
        "**Import necessary libraries and tools**"
      ]
    },
    {
      "cell_type": "code",
      "metadata": {
        "id": "eTHm1P4MEtIp",
        "colab_type": "code",
        "colab": {}
      },
      "source": [
        "from sklearn.model_selection import train_test_split\n",
        "import numpy as np\n",
        "import pandas as pd\n",
        "import matplotlib.pyplot as plt \n",
        "import scipy.io "
      ],
      "execution_count": 0,
      "outputs": []
    },
    {
      "cell_type": "code",
      "metadata": {
        "id": "LrdkZCXrHReK",
        "colab_type": "code",
        "colab": {}
      },
      "source": [
        "root_path = \"/content/drive/My Drive/CinnamonAI/Gaussian-Model/\""
      ],
      "execution_count": 0,
      "outputs": []
    },
    {
      "cell_type": "code",
      "metadata": {
        "id": "RTx-WTvyG4sd",
        "colab_type": "code",
        "colab": {}
      },
      "source": [
        "#loading data and split X,y features.\n",
        "data = scipy.io.loadmat(root_path+\"cardio.mat\")\n",
        "X = data[\"X\"]\n",
        "y= data[\"y\"]"
      ],
      "execution_count": 0,
      "outputs": []
    },
    {
      "cell_type": "markdown",
      "metadata": {
        "id": "D57ZgrzkMBGy",
        "colab_type": "text"
      },
      "source": [
        "**Splitting Dataset**"
      ]
    },
    {
      "cell_type": "code",
      "metadata": {
        "id": "3xl7YrAnMAN3",
        "colab_type": "code",
        "colab": {}
      },
      "source": [
        "df = pd.DataFrame(X)\n",
        "df['normal_label']=y"
      ],
      "execution_count": 0,
      "outputs": []
    },
    {
      "cell_type": "code",
      "metadata": {
        "id": "kr-0FkyeQQY9",
        "colab_type": "code",
        "colab": {
          "base_uri": "https://localhost:8080/",
          "height": 426
        },
        "outputId": "7400b9cb-9967-467b-918a-e0c60f3bcd1c"
      },
      "source": [
        "df"
      ],
      "execution_count": 25,
      "outputs": [
        {
          "output_type": "execute_result",
          "data": {
            "text/html": [
              "<div>\n",
              "<style scoped>\n",
              "    .dataframe tbody tr th:only-of-type {\n",
              "        vertical-align: middle;\n",
              "    }\n",
              "\n",
              "    .dataframe tbody tr th {\n",
              "        vertical-align: top;\n",
              "    }\n",
              "\n",
              "    .dataframe thead th {\n",
              "        text-align: right;\n",
              "    }\n",
              "</style>\n",
              "<table border=\"1\" class=\"dataframe\">\n",
              "  <thead>\n",
              "    <tr style=\"text-align: right;\">\n",
              "      <th></th>\n",
              "      <th>0</th>\n",
              "      <th>1</th>\n",
              "      <th>2</th>\n",
              "      <th>3</th>\n",
              "      <th>4</th>\n",
              "      <th>5</th>\n",
              "      <th>6</th>\n",
              "      <th>7</th>\n",
              "      <th>8</th>\n",
              "      <th>9</th>\n",
              "      <th>10</th>\n",
              "      <th>11</th>\n",
              "      <th>12</th>\n",
              "      <th>13</th>\n",
              "      <th>14</th>\n",
              "      <th>15</th>\n",
              "      <th>16</th>\n",
              "      <th>17</th>\n",
              "      <th>18</th>\n",
              "      <th>19</th>\n",
              "      <th>20</th>\n",
              "      <th>normal_label</th>\n",
              "    </tr>\n",
              "  </thead>\n",
              "  <tbody>\n",
              "    <tr>\n",
              "      <th>0</th>\n",
              "      <td>0.004912</td>\n",
              "      <td>0.693191</td>\n",
              "      <td>-0.203640</td>\n",
              "      <td>0.595322</td>\n",
              "      <td>0.353190</td>\n",
              "      <td>-0.061401</td>\n",
              "      <td>-0.278295</td>\n",
              "      <td>-1.650444</td>\n",
              "      <td>0.759072</td>\n",
              "      <td>-0.420487</td>\n",
              "      <td>0.372149</td>\n",
              "      <td>1.485973</td>\n",
              "      <td>-0.798376</td>\n",
              "      <td>1.854728</td>\n",
              "      <td>0.622631</td>\n",
              "      <td>0.963083</td>\n",
              "      <td>0.301464</td>\n",
              "      <td>0.193113</td>\n",
              "      <td>0.231498</td>\n",
              "      <td>-0.289786</td>\n",
              "      <td>-0.493294</td>\n",
              "      <td>0.0</td>\n",
              "    </tr>\n",
              "    <tr>\n",
              "      <th>1</th>\n",
              "      <td>0.110729</td>\n",
              "      <td>-0.079903</td>\n",
              "      <td>-0.203640</td>\n",
              "      <td>1.268942</td>\n",
              "      <td>0.396246</td>\n",
              "      <td>-0.061401</td>\n",
              "      <td>-0.278295</td>\n",
              "      <td>-1.710270</td>\n",
              "      <td>0.759072</td>\n",
              "      <td>-0.420487</td>\n",
              "      <td>0.882794</td>\n",
              "      <td>1.485973</td>\n",
              "      <td>-0.798376</td>\n",
              "      <td>1.854728</td>\n",
              "      <td>0.278625</td>\n",
              "      <td>0.963083</td>\n",
              "      <td>0.301464</td>\n",
              "      <td>0.129265</td>\n",
              "      <td>0.093563</td>\n",
              "      <td>-0.256385</td>\n",
              "      <td>-0.493294</td>\n",
              "      <td>0.0</td>\n",
              "    </tr>\n",
              "    <tr>\n",
              "      <th>2</th>\n",
              "      <td>0.216546</td>\n",
              "      <td>-0.272445</td>\n",
              "      <td>-0.203640</td>\n",
              "      <td>1.050988</td>\n",
              "      <td>0.148753</td>\n",
              "      <td>-0.061401</td>\n",
              "      <td>-0.278295</td>\n",
              "      <td>-1.710270</td>\n",
              "      <td>1.106509</td>\n",
              "      <td>-0.420487</td>\n",
              "      <td>2.516859</td>\n",
              "      <td>1.141780</td>\n",
              "      <td>-1.332931</td>\n",
              "      <td>0.314688</td>\n",
              "      <td>2.342663</td>\n",
              "      <td>-0.488279</td>\n",
              "      <td>0.061002</td>\n",
              "      <td>0.065417</td>\n",
              "      <td>0.024596</td>\n",
              "      <td>-0.256385</td>\n",
              "      <td>1.140018</td>\n",
              "      <td>0.0</td>\n",
              "    </tr>\n",
              "    <tr>\n",
              "      <th>3</th>\n",
              "      <td>0.004912</td>\n",
              "      <td>0.727346</td>\n",
              "      <td>-0.203640</td>\n",
              "      <td>1.212171</td>\n",
              "      <td>-0.683598</td>\n",
              "      <td>-0.061401</td>\n",
              "      <td>-0.278295</td>\n",
              "      <td>-1.710270</td>\n",
              "      <td>1.106509</td>\n",
              "      <td>-0.420487</td>\n",
              "      <td>1.989193</td>\n",
              "      <td>1.141780</td>\n",
              "      <td>-1.332931</td>\n",
              "      <td>0.314688</td>\n",
              "      <td>1.654650</td>\n",
              "      <td>-0.488279</td>\n",
              "      <td>0.061002</td>\n",
              "      <td>0.193113</td>\n",
              "      <td>0.093563</td>\n",
              "      <td>-0.323186</td>\n",
              "      <td>1.140018</td>\n",
              "      <td>0.0</td>\n",
              "    </tr>\n",
              "    <tr>\n",
              "      <th>4</th>\n",
              "      <td>-0.100905</td>\n",
              "      <td>0.363595</td>\n",
              "      <td>1.321366</td>\n",
              "      <td>1.027120</td>\n",
              "      <td>0.141359</td>\n",
              "      <td>-0.061401</td>\n",
              "      <td>-0.278295</td>\n",
              "      <td>-0.992364</td>\n",
              "      <td>-0.051613</td>\n",
              "      <td>-0.420487</td>\n",
              "      <td>0.797687</td>\n",
              "      <td>-0.208514</td>\n",
              "      <td>-0.085638</td>\n",
              "      <td>-0.565334</td>\n",
              "      <td>0.278625</td>\n",
              "      <td>-0.488279</td>\n",
              "      <td>-0.059229</td>\n",
              "      <td>0.065417</td>\n",
              "      <td>0.024596</td>\n",
              "      <td>-0.456787</td>\n",
              "      <td>1.140018</td>\n",
              "      <td>0.0</td>\n",
              "    </tr>\n",
              "    <tr>\n",
              "      <th>...</th>\n",
              "      <td>...</td>\n",
              "      <td>...</td>\n",
              "      <td>...</td>\n",
              "      <td>...</td>\n",
              "      <td>...</td>\n",
              "      <td>...</td>\n",
              "      <td>...</td>\n",
              "      <td>...</td>\n",
              "      <td>...</td>\n",
              "      <td>...</td>\n",
              "      <td>...</td>\n",
              "      <td>...</td>\n",
              "      <td>...</td>\n",
              "      <td>...</td>\n",
              "      <td>...</td>\n",
              "      <td>...</td>\n",
              "      <td>...</td>\n",
              "      <td>...</td>\n",
              "      <td>...</td>\n",
              "      <td>...</td>\n",
              "      <td>...</td>\n",
              "      <td>...</td>\n",
              "    </tr>\n",
              "    <tr>\n",
              "      <th>1826</th>\n",
              "      <td>-0.418356</td>\n",
              "      <td>-0.919988</td>\n",
              "      <td>-0.161178</td>\n",
              "      <td>0.829564</td>\n",
              "      <td>0.953023</td>\n",
              "      <td>-0.061401</td>\n",
              "      <td>3.060819</td>\n",
              "      <td>1.221178</td>\n",
              "      <td>1.338133</td>\n",
              "      <td>-0.420487</td>\n",
              "      <td>-1.398088</td>\n",
              "      <td>1.459497</td>\n",
              "      <td>-0.976561</td>\n",
              "      <td>1.524719</td>\n",
              "      <td>0.622631</td>\n",
              "      <td>-0.488279</td>\n",
              "      <td>-1.982928</td>\n",
              "      <td>-2.616202</td>\n",
              "      <td>-1.561651</td>\n",
              "      <td>0.244620</td>\n",
              "      <td>-0.493294</td>\n",
              "      <td>1.0</td>\n",
              "    </tr>\n",
              "    <tr>\n",
              "      <th>1827</th>\n",
              "      <td>-0.418356</td>\n",
              "      <td>-0.919988</td>\n",
              "      <td>-0.171055</td>\n",
              "      <td>0.796630</td>\n",
              "      <td>0.823510</td>\n",
              "      <td>-0.061401</td>\n",
              "      <td>3.565299</td>\n",
              "      <td>1.281003</td>\n",
              "      <td>1.453945</td>\n",
              "      <td>-0.420487</td>\n",
              "      <td>-1.398088</td>\n",
              "      <td>1.459497</td>\n",
              "      <td>-0.976561</td>\n",
              "      <td>1.524719</td>\n",
              "      <td>-0.065382</td>\n",
              "      <td>-0.488279</td>\n",
              "      <td>-1.862696</td>\n",
              "      <td>-2.807747</td>\n",
              "      <td>-1.699585</td>\n",
              "      <td>0.010817</td>\n",
              "      <td>-0.493294</td>\n",
              "      <td>1.0</td>\n",
              "    </tr>\n",
              "    <tr>\n",
              "      <th>1828</th>\n",
              "      <td>-0.418356</td>\n",
              "      <td>-0.919988</td>\n",
              "      <td>-0.164635</td>\n",
              "      <td>0.952396</td>\n",
              "      <td>1.120470</td>\n",
              "      <td>-0.061401</td>\n",
              "      <td>2.788995</td>\n",
              "      <td>1.221178</td>\n",
              "      <td>1.222321</td>\n",
              "      <td>-0.420487</td>\n",
              "      <td>-1.398088</td>\n",
              "      <td>1.459497</td>\n",
              "      <td>-0.976561</td>\n",
              "      <td>1.524719</td>\n",
              "      <td>0.622631</td>\n",
              "      <td>-0.488279</td>\n",
              "      <td>-1.922812</td>\n",
              "      <td>-2.488506</td>\n",
              "      <td>-1.492683</td>\n",
              "      <td>0.244620</td>\n",
              "      <td>-0.493294</td>\n",
              "      <td>1.0</td>\n",
              "    </tr>\n",
              "    <tr>\n",
              "      <th>1829</th>\n",
              "      <td>-0.418356</td>\n",
              "      <td>-0.919988</td>\n",
              "      <td>-0.150934</td>\n",
              "      <td>0.695726</td>\n",
              "      <td>1.212428</td>\n",
              "      <td>-0.061401</td>\n",
              "      <td>2.484822</td>\n",
              "      <td>1.221178</td>\n",
              "      <td>1.222321</td>\n",
              "      <td>-0.420487</td>\n",
              "      <td>-1.398088</td>\n",
              "      <td>1.459497</td>\n",
              "      <td>-0.976561</td>\n",
              "      <td>1.524719</td>\n",
              "      <td>0.278625</td>\n",
              "      <td>-0.488279</td>\n",
              "      <td>-1.321656</td>\n",
              "      <td>-2.296962</td>\n",
              "      <td>-1.423716</td>\n",
              "      <td>0.144419</td>\n",
              "      <td>-0.493294</td>\n",
              "      <td>1.0</td>\n",
              "    </tr>\n",
              "    <tr>\n",
              "      <th>1830</th>\n",
              "      <td>-0.418356</td>\n",
              "      <td>-0.919988</td>\n",
              "      <td>-0.203640</td>\n",
              "      <td>1.173282</td>\n",
              "      <td>2.579786</td>\n",
              "      <td>-0.061401</td>\n",
              "      <td>-0.278295</td>\n",
              "      <td>1.101527</td>\n",
              "      <td>3.191128</td>\n",
              "      <td>-0.420487</td>\n",
              "      <td>-1.398088</td>\n",
              "      <td>0.426919</td>\n",
              "      <td>-0.869650</td>\n",
              "      <td>-0.455331</td>\n",
              "      <td>0.278625</td>\n",
              "      <td>-0.488279</td>\n",
              "      <td>-4.026857</td>\n",
              "      <td>-3.829316</td>\n",
              "      <td>-1.285782</td>\n",
              "      <td>3.584653</td>\n",
              "      <td>-0.493294</td>\n",
              "      <td>1.0</td>\n",
              "    </tr>\n",
              "  </tbody>\n",
              "</table>\n",
              "<p>1831 rows × 22 columns</p>\n",
              "</div>"
            ],
            "text/plain": [
              "             0         1         2  ...        19        20  normal_label\n",
              "0     0.004912  0.693191 -0.203640  ... -0.289786 -0.493294           0.0\n",
              "1     0.110729 -0.079903 -0.203640  ... -0.256385 -0.493294           0.0\n",
              "2     0.216546 -0.272445 -0.203640  ... -0.256385  1.140018           0.0\n",
              "3     0.004912  0.727346 -0.203640  ... -0.323186  1.140018           0.0\n",
              "4    -0.100905  0.363595  1.321366  ... -0.456787  1.140018           0.0\n",
              "...        ...       ...       ...  ...       ...       ...           ...\n",
              "1826 -0.418356 -0.919988 -0.161178  ...  0.244620 -0.493294           1.0\n",
              "1827 -0.418356 -0.919988 -0.171055  ...  0.010817 -0.493294           1.0\n",
              "1828 -0.418356 -0.919988 -0.164635  ...  0.244620 -0.493294           1.0\n",
              "1829 -0.418356 -0.919988 -0.150934  ...  0.144419 -0.493294           1.0\n",
              "1830 -0.418356 -0.919988 -0.203640  ...  3.584653 -0.493294           1.0\n",
              "\n",
              "[1831 rows x 22 columns]"
            ]
          },
          "metadata": {
            "tags": []
          },
          "execution_count": 25
        }
      ]
    },
    {
      "cell_type": "code",
      "metadata": {
        "id": "lkF6OE6gMaW9",
        "colab_type": "code",
        "colab": {}
      },
      "source": [
        "X_train = df[df['normal_label']==0].drop(labels='normal_label',axis=1)\n",
        "X_test = df[df['normal_label']==1].drop(labels='normal_label',axis=1)"
      ],
      "execution_count": 0,
      "outputs": []
    },
    {
      "cell_type": "code",
      "metadata": {
        "id": "f9Z0aWnFhpuz",
        "colab_type": "code",
        "outputId": "677a5941-2463-4102-c109-9c7f8ca1b127",
        "colab": {
          "base_uri": "https://localhost:8080/",
          "height": 282
        }
      },
      "source": [
        "#visualizing first two features of X_train\n",
        "plt.scatter(X_train[2],X_train[3])"
      ],
      "execution_count": 26,
      "outputs": [
        {
          "output_type": "execute_result",
          "data": {
            "text/plain": [
              "<matplotlib.collections.PathCollection at 0x7ff1143172b0>"
            ]
          },
          "metadata": {
            "tags": []
          },
          "execution_count": 26
        },
        {
          "output_type": "display_data",
          "data": {
            "image/png": "[encoded data removed]",
            "text/plain": [
              "<Figure size 432x288 with 1 Axes>"
            ]
          },
          "metadata": {
            "tags": []
          }
        }
      ]
    },
    {
      "cell_type": "code",
      "metadata": {
        "id": "m43yiiARvt1o",
        "colab_type": "code",
        "colab": {}
      },
      "source": [
        "X_train_candidate_features = X[:,2:4]\n",
        "X_train_candidate_features = pd.DataFrame(X_train_candidate_features)"
      ],
      "execution_count": 0,
      "outputs": []
    },
    {
      "cell_type": "markdown",
      "metadata": {
        "id": "ag84Bm3MMFbi",
        "colab_type": "text"
      },
      "source": [
        "**GMM-sklearn**"
      ]
    },
    {
      "cell_type": "code",
      "metadata": {
        "id": "3I8i3mrQMEYB",
        "colab_type": "code",
        "colab": {}
      },
      "source": [
        "from sklearn.mixture import GaussianMixture"
      ],
      "execution_count": 0,
      "outputs": []
    },
    {
      "cell_type": "code",
      "metadata": {
        "id": "D7f6uTejMOR_",
        "colab_type": "code",
        "outputId": "c10747d7-0784-497d-f4c6-d8faa1c472fa",
        "colab": {
          "base_uri": "https://localhost:8080/",
          "height": 87
        }
      },
      "source": [
        "gmm = GaussianMixture(n_components=2)\n",
        "gmm.fit(X_train_candidate_features)"
      ],
      "execution_count": 57,
      "outputs": [
        {
          "output_type": "execute_result",
          "data": {
            "text/plain": [
              "GaussianMixture(covariance_type='full', init_params='kmeans', max_iter=100,\n",
              "                means_init=None, n_components=2, n_init=1, precisions_init=None,\n",
              "                random_state=None, reg_covar=1e-06, tol=0.001, verbose=0,\n",
              "                verbose_interval=10, warm_start=False, weights_init=None)"
            ]
          },
          "metadata": {
            "tags": []
          },
          "execution_count": 57
        }
      ]
    },
    {
      "cell_type": "code",
      "metadata": {
        "id": "qWGdbGTAMnv7",
        "colab_type": "code",
        "colab": {}
      },
      "source": [
        "labels = gmm.predict(X_train_candidate_features) \n",
        "X_train_candidate_features['labels']= labels\n",
        "d0 = X_train_candidate_features[X_train_candidate_features['labels']== 0] \n",
        "d1 = X_train_candidate_features[X_train_candidate_features['labels']== 1]\n",
        "d2 = X_train_candidate_features[X_train_candidate_features['labels']== 2] "
      ],
      "execution_count": 0,
      "outputs": []
    },
    {
      "cell_type": "code",
      "metadata": {
        "id": "KZu3yDZPNGdu",
        "colab_type": "code",
        "outputId": "2e34652a-bcb3-45ba-f023-b6b38da712ee",
        "colab": {
          "base_uri": "https://localhost:8080/",
          "height": 282
        }
      },
      "source": [
        "plt.scatter(d0[0], d0[1], c ='r') \n",
        "plt.scatter(d1[0], d1[1], c ='yellow') \n",
        "plt.scatter(d2[0], d2[1], c ='b') \n"
      ],
      "execution_count": 42,
      "outputs": [
        {
          "output_type": "execute_result",
          "data": {
            "text/plain": [
              "<matplotlib.collections.PathCollection at 0x7ff10fc66d68>"
            ]
          },
          "metadata": {
            "tags": []
          },
          "execution_count": 42
        },
        {
          "output_type": "display_data",
          "data": {
            "image/png": "[encoded data removed]",
            "text/plain": [
              "<Figure size 432x288 with 1 Axes>"
            ]
          },
          "metadata": {
            "tags": []
          }
        }
      ]
    },
    {
      "cell_type": "markdown",
      "metadata": {
        "id": "lzsP0xJyjHYW",
        "colab_type": "text"
      },
      "source": [
        "**GMM Scratch**"
      ]
    },
    {
      "cell_type": "code",
      "metadata": {
        "id": "f0rgxpAVnBad",
        "colab_type": "code",
        "colab": {}
      },
      "source": [
        "from scipy.stats import multivariate_normal \n",
        "import copy"
      ],
      "execution_count": 0,
      "outputs": []
    },
    {
      "cell_type": "code",
      "metadata": {
        "id": "kouh7qvS0J8Y",
        "colab_type": "code",
        "colab": {}
      },
      "source": [
        "a = [1,3,4]\n",
        "b=copy.copy(a)\n",
        "a[0] = 2"
      ],
      "execution_count": 0,
      "outputs": []
    },
    {
      "cell_type": "code",
      "metadata": {
        "id": "XG9j0yWw0L-r",
        "colab_type": "code",
        "outputId": "67c2e3ac-6dc5-45f8-b87a-404bc9fadcd4",
        "colab": {
          "base_uri": "https://localhost:8080/",
          "height": 34
        }
      },
      "source": [
        "b"
      ],
      "execution_count": 0,
      "outputs": [
        {
          "output_type": "execute_result",
          "data": {
            "text/plain": [
              "[1, 3, 4]"
            ]
          },
          "metadata": {
            "tags": []
          },
          "execution_count": 100
        }
      ]
    },
    {
      "cell_type": "code",
      "metadata": {
        "id": "J0xyPeZyjGf8",
        "colab_type": "code",
        "colab": {}
      },
      "source": [
        "class GMM_Model:\n",
        "  def __init__(self,num_clusters):\n",
        "    self.num_clusters = num_clusters\n",
        "\n",
        "  def init_clusters(self,X):\n",
        "    #naive initialization of clusters(random generating):\n",
        "    clusters = []\n",
        "    coefficient_sum = 0.0\n",
        "    for i in range(self.num_clusters):\n",
        "      tmp_cluster = {}\n",
        "      tmp_cluster['clusters_mean'] = np.random.randn(self.num_features)\n",
        "      #simple steps to provide positive semi-definite covariance matrix\n",
        "      tmp_matrix = np.random.randn(self.num_features,self.num_features)\n",
        "      tmp_cluster['clusters_covariance'] = np.dot(tmp_matrix, np.transpose(tmp_matrix))\n",
        "      tmp_cluster['clusters_coefficient'] = abs(np.random.randn())\n",
        "      coefficient_sum += tmp_cluster['clusters_coefficient']\n",
        "      clusters.append(copy.copy(tmp_cluster))\n",
        "    #ensuring sum of clusters_coefficient equals to one\n",
        "    for cluster in clusters:\n",
        "      cluster['clusters_coefficient'] /= coefficient_sum\n",
        "    print(clusters)\n",
        "    return clusters\n",
        "\n",
        "  def gaussian_distribution(self,x,mean_var,covariance_var):\n",
        "    return multivariate_normal.pdf(x,mean=mean_var,cov=covariance_var)\n",
        "  def evaluate_all_responsibilities(self,clusters,X):\n",
        "    respons_matrix = []\n",
        "    for example in X:\n",
        "      total_score = 0.0\n",
        "      prob_array = []\n",
        "      for cluster in clusters:\n",
        "        score = cluster['clusters_coefficient']*self.gaussian_distribution(example,cluster['clusters_mean'],cluster['clusters_covariance'])\n",
        "        total_score += score\n",
        "        prob_array.append(score)\n",
        "      prob_array = prob_array/total_score\n",
        "      respons_matrix.append(copy.copy(prob_array))\n",
        "    return respons_matrix\n",
        "  def covariance_matrix(self,cluster,X):\n",
        "    cova_matrix_list = []\n",
        "    for example in X:\n",
        "      cova_matrix = (example-cluster['clusters_mean']).reshape(self.num_features,1)*(example-cluster['clusters_mean']).reshape(1,self.num_features)\n",
        "      cova_matrix_list.append(copy.copy(cova_matrix))\n",
        "    return cova_matrix_list\n",
        "  def estimate_params(self,clusters,X,respons_matrix):\n",
        "    for index_cluster,cluster in enumerate(clusters):\n",
        "      weight_cluster = np.transpose(respons_matrix)[index_cluster]\n",
        "      new_mean = np.average(X, weights=weight_cluster,axis=0)\n",
        "      clusters[index_cluster]['clusters_mean'] = copy.copy(new_mean)\n",
        "      cova_matrix_list = self.covariance_matrix(clusters[index_cluster],X)\n",
        "      new_covariance = np.average(cova_matrix_list,weights=weight_cluster,axis=0)\n",
        "      new_coefficient = np.sum(weight_cluster)/self.num_examples\n",
        "      clusters[index_cluster]['clusters_covariance'] = copy.copy(new_covariance)\n",
        "      clusters[index_cluster]['clusters_coefficient'] = copy.copy(new_coefficient)\n",
        "    return clusters\n",
        "  def evaluate_log_likelihood(self,clusters,X,respons_matrix):\n",
        "    matrix_score = np.zeros((self.num_examples,self.num_clusters))\n",
        "    for index_example,example in enumerate(X):\n",
        "      for index_cluster,cluster in enumerate(clusters):\n",
        "        matrix_score[index_example][index_cluster] = cluster['clusters_coefficient']*self.gaussian_distribution(example,cluster['clusters_mean'],cluster['clusters_covariance'])\n",
        "    final_score = np.sum(np.log(np.sum(matrix_score,axis=1)))\n",
        "    print(final_score,matrix_score)\n",
        "  def fit(self,X):\n",
        "    self.num_features = len(X[0])\n",
        "    self.num_examples = len(X)\n",
        "    #initialize parameters\n",
        "    clusters = self.init_clusters(X)\n",
        "    #EM process\n",
        "    steps = 20\n",
        "    for i in range(steps):\n",
        "      print(\"Step \",i+1)\n",
        "      #calculate responsibilities\n",
        "      respons_matrix = self.evaluate_all_responsibilities(clusters,X)\n",
        "      #re-estimate parameters\n",
        "      clusters = self.estimate_params(clusters,X,respons_matrix)\n",
        "      #evaluate log-likelihood function\n",
        "      current_score = self.evaluate_log_likelihood(clusters,X,respons_matrix)\n",
        "    return clusters\n",
        "  def predict_class(self,X,clusters):\n",
        "    label = []\n",
        "    respons_matrix = self.evaluate_all_responsibilities(clusters,X)\n",
        "    for example_score in respons_matrix:\n",
        "      label.append(np.argmax(example_score))\n",
        "    return label\n"
      ],
      "execution_count": 0,
      "outputs": []
    },
    {
      "cell_type": "code",
      "metadata": {
        "id": "SqRauodJ0H0A",
        "colab_type": "code",
        "colab": {}
      },
      "source": [
        "gaussian_model = GMM_Model(num_clusters=2)"
      ],
      "execution_count": 0,
      "outputs": []
    },
    {
      "cell_type": "code",
      "metadata": {
        "id": "ZFAMk6pV0nBQ",
        "colab_type": "code",
        "outputId": "4ef06bcc-ffaf-41d4-e765-38ee900be43a",
        "colab": {
          "base_uri": "https://localhost:8080/",
          "height": 1000
        }
      },
      "source": [
        "X_fit = X_train_candidate_features.to_numpy()\n",
        "clusters = gaussian_model.fit(X_fit)"
      ],
      "execution_count": 53,
      "outputs": [
        {
          "output_type": "stream",
          "text": [
            "[{'clusters_mean': array([2.4857484 , 0.24298267]), 'clusters_covariance': array([[ 1.13487699, -0.65498799],\n",
            "       [-0.65498799,  0.88205532]]), 'clusters_coefficient': 0.34626622054133954}, {'clusters_mean': array([ 2.07419737, -1.85598333]), 'clusters_covariance': array([[ 4.23282759, -2.90857282],\n",
            "       [-2.90857282,  2.06890149]]), 'clusters_coefficient': 0.6537337794586604}]\n",
            "Step  1\n",
            "-3540.199596318468 [[0.03807856 0.15971695]\n",
            " [0.04657627 0.02045074]\n",
            " [0.04901412 0.04435028]\n",
            " ...\n",
            " [0.04871069 0.05901833]\n",
            " [0.04261105 0.12172991]\n",
            " [0.04828736 0.02909659]]\n",
            "Step  2\n",
            "-2272.5536800168315 [[0.01740785 0.5947144 ]\n",
            " [0.02128795 0.1868111 ]\n",
            " [0.02161314 0.29290121]\n",
            " ...\n",
            " [0.02140855 0.34276766]\n",
            " [0.01910862 0.51174201]\n",
            " [0.02163365 0.22959823]]\n",
            "Step  3\n",
            "-1304.8526841835642 [[0.00413711 1.37782207]\n",
            " [0.00350748 0.70605176]\n",
            " [0.00384354 0.92865625]\n",
            " ...\n",
            " [0.00398672 0.99722436]\n",
            " [0.0041734  1.2266594 ]\n",
            " [0.00366762 0.80172851]]\n",
            "Step  4\n",
            "-950.809063575522 [[1.61614827e-03 1.96155071e+00]\n",
            " [4.09525045e-04 1.12457958e+00]\n",
            " [6.83548622e-04 1.41972473e+00]\n",
            " ...\n",
            " [8.54267487e-04 1.46950252e+00]\n",
            " [1.39294596e-03 1.66191554e+00]\n",
            " [5.16911600e-04 1.25350823e+00]]\n",
            "Step  5\n",
            "-775.3701366086987 [[1.56704050e-03 2.46058543e+00]\n",
            " [2.77620996e-04 1.42825330e+00]\n",
            " [5.25527167e-04 1.79484476e+00]\n",
            " ...\n",
            " [6.94789630e-04 1.76760675e+00]\n",
            " [1.29153097e-03 1.84946431e+00]\n",
            " [3.70757518e-04 1.58868585e+00]]\n",
            "Step  6\n",
            "-633.949922593968 [[2.17677111e-03 2.97010061e+00]\n",
            " [3.83896665e-04 1.74052060e+00]\n",
            " [7.28963868e-04 2.17975418e+00]\n",
            " ...\n",
            " [9.63780835e-04 1.93258906e+00]\n",
            " [1.79260531e-03 1.80737262e+00]\n",
            " [5.13485008e-04 1.93302947e+00]]\n",
            "Step  7\n",
            "-496.35310326334957 [[2.91510336e-03 3.61608643e+00]\n",
            " [5.38658160e-04 2.13628318e+00]\n",
            " [1.00655312e-03 2.66782000e+00]\n",
            " ...\n",
            " [1.32054567e-03 1.97103568e+00]\n",
            " [2.41376074e-03 1.53067865e+00]\n",
            " [7.15351641e-04 2.36955550e+00]]\n",
            "Step  8\n",
            "-388.86679341381114 [[3.67587248e-03 4.30870891e+00]\n",
            " [7.24987708e-04 2.55726992e+00]\n",
            " [1.32338377e-03 3.18835266e+00]\n",
            " ...\n",
            " [1.71819390e-03 1.82490386e+00]\n",
            " [3.06713820e-03 1.09444484e+00]\n",
            " [9.52698184e-04 2.83443904e+00]]\n",
            "Step  9\n",
            "-317.9593578922954 [[4.44783045e-03 4.98787877e+00]\n",
            " [9.39972888e-04 2.96847622e+00]\n",
            " [1.67366302e-03 3.69771421e+00]\n",
            " ...\n",
            " [2.14924838e-03 1.53020571e+00]\n",
            " [3.74182576e-03 6.69399791e-01]\n",
            " [1.22143286e-03 3.28891231e+00]]\n",
            "Step  10\n",
            "-277.7401267718822 [[5.06427412e-03 5.54086255e+00]\n",
            " [1.10784702e-03 3.29975583e+00]\n",
            " [1.94812216e-03 4.10916917e+00]\n",
            " ...\n",
            " [2.48794159e-03 1.24244327e+00]\n",
            " [4.27770233e-03 3.98930852e-01]\n",
            " [1.43149670e-03 3.65544662e+00]]\n",
            "Step  11\n",
            "-251.72919896381563 [[5.70815113e-03 6.01867220e+00]\n",
            " [1.31779994e-03 3.58341729e+00]\n",
            " [2.27272169e-03 4.46304224e+00]\n",
            " ...\n",
            " [2.87783896e-03 9.80134032e-01]\n",
            " [4.85265534e-03 2.32982636e-01]\n",
            " [1.68792542e-03 3.96995971e+00]]\n",
            "Step  12\n",
            "-230.11433832557427 [[6.31701988e-03 6.47731928e+00]\n",
            " [1.52997341e-03 3.85226509e+00]\n",
            " [2.59317038e-03 4.80014308e+00]\n",
            " ...\n",
            " [3.25885246e-03 7.49921484e-01]\n",
            " [5.40101231e-03 1.29728929e-01]\n",
            " [1.94436698e-03 4.26874817e+00]]\n",
            "Step  13\n",
            "-208.66279545851128 [[6.88392464e-03 6.97005606e+00]\n",
            " [1.72662547e-03 4.13734151e+00]\n",
            " [2.88941867e-03 5.15914713e+00]\n",
            " ...\n",
            " [3.61116048e-03 5.42175810e-01]\n",
            " [5.91012791e-03 6.44126538e-02]\n",
            " [2.18167585e-03 4.58618120e+00]]\n",
            "Step  14\n",
            "-187.90369788627083 [[7.46785046e-03 7.50135180e+00]\n",
            " [1.93325358e-03 4.44406838e+00]\n",
            " [3.19841463e-03 5.54567418e+00]\n",
            " ...\n",
            " [3.97738335e-03 3.62338256e-01]\n",
            " [6.43560626e-03 2.75622152e-02]\n",
            " [2.43018573e-03 4.92782098e+00]]\n",
            "Step  15\n",
            "-169.01092809573396 [[8.05126954e-03 8.05292302e+00]\n",
            " [2.13776549e-03 4.76329936e+00]\n",
            " [3.50481759e-03 5.94751839e+00]\n",
            " ...\n",
            " [4.34087688e-03 2.24387225e-01]\n",
            " [6.95940808e-03 1.02565177e-02]\n",
            " [2.67630950e-03 5.28320491e+00]]\n",
            "Step  16\n",
            "-153.07309764419222 [[8.56348414e-03 8.59673481e+00]\n",
            " [2.30163116e-03 5.07610806e+00]\n",
            " [3.75727946e-03 6.34190836e+00]\n",
            " ...\n",
            " [4.64442050e-03 1.32522305e-01]\n",
            " [7.41285063e-03 3.48530589e-03]\n",
            " [2.87590094e-03 5.63166726e+00]]\n",
            "Step  17\n",
            "-140.81318829874414 [[9.02900494e-03 9.10395779e+00]\n",
            " [2.44406779e-03 5.36709398e+00]\n",
            " [3.98014396e-03 6.70897805e+00]\n",
            " ...\n",
            " [4.91413058e-03 7.67385919e-02]\n",
            " [7.82243899e-03 1.14989432e-03]\n",
            " [3.05058664e-03 5.95588162e+00]]\n",
            "Step  18\n",
            "-131.72928510123268 [[9.47262482e-03 9.56297491e+00]\n",
            " [2.58681339e-03 5.63053992e+00]\n",
            " [4.19991736e-03 7.04130062e+00]\n",
            " ...\n",
            " [5.17802913e-03 4.45401394e-02]\n",
            " [8.21549719e-03 3.86648813e-04]\n",
            " [3.22442033e-03 6.24941301e+00]]\n",
            "Step  19\n",
            "-124.64044474269537 [[9.89923383e-03 9.98609225e+00]\n",
            " [2.73580863e-03 5.87207374e+00]\n",
            " [4.42328798e-03 7.34675090e+00]\n",
            " ...\n",
            " [5.44294981e-03 2.59513847e-02]\n",
            " [8.59789702e-03 1.32448746e-04]\n",
            " [3.40376060e-03 6.51885288e+00]]\n",
            "Step  20\n",
            "-118.58727765967313 [[1.03242421e-02 1.03932760e+01]\n",
            " [2.89740936e-03 6.10356693e+00]\n",
            " [4.65918868e-03 7.64010360e+00]\n",
            " ...\n",
            " [5.71921012e-03 1.49056021e-02]\n",
            " [8.98370229e-03 4.45590146e-05]\n",
            " [3.59603566e-03 6.77734718e+00]]\n"
          ],
          "name": "stdout"
        }
      ]
    },
    {
      "cell_type": "code",
      "metadata": {
        "id": "N7xsP6SmJtpW",
        "colab_type": "code",
        "colab": {
          "base_uri": "https://localhost:8080/",
          "height": 90
        },
        "outputId": "278d129d-860d-453b-dd25-7bdbaa539ede"
      },
      "source": [
        "print(clusters)"
      ],
      "execution_count": 54,
      "outputs": [
        {
          "output_type": "stream",
          "text": [
            "[{'clusters_mean': array([ 0.56510995, -0.51775132]), 'clusters_covariance': array([[3.39493645, 0.07182769],\n",
            "       [0.07182769, 0.77876405]]), 'clusters_coefficient': 0.2611298438309717}, {'clusters_mean': array([-0.1997199 ,  0.18298252]), 'clusters_covariance': array([[9.59895069e-05, 2.23555518e-05],\n",
            "       [2.23555518e-05, 9.49227506e-01]]), 'clusters_coefficient': 0.7388701561690283}]\n"
          ],
          "name": "stdout"
        }
      ]
    },
    {
      "cell_type": "code",
      "metadata": {
        "id": "sL8T-DZMA88n",
        "colab_type": "code",
        "colab": {}
      },
      "source": [
        "labels = gaussian_model.predict_class(X_fit,clusters) \n",
        "X_fit = pd.DataFrame(X_fit)\n",
        "X_fit['labels']= labels\n",
        "d0 = X_fit[X_fit['labels']== 0] \n",
        "d1 = X_fit[X_fit['labels']== 1]\n",
        "# d2 = X_train_candidate_features[X_train_candidate_features['labels']== 2] "
      ],
      "execution_count": 0,
      "outputs": []
    },
    {
      "cell_type": "code",
      "metadata": {
        "id": "8p3liicUCHXR",
        "colab_type": "code",
        "colab": {
          "base_uri": "https://localhost:8080/",
          "height": 406
        },
        "outputId": "9ced3e74-ca67-4983-90a5-c9c56b4091b1"
      },
      "source": [
        "d1"
      ],
      "execution_count": 34,
      "outputs": [
        {
          "output_type": "execute_result",
          "data": {
            "text/html": [
              "<div>\n",
              "<style scoped>\n",
              "    .dataframe tbody tr th:only-of-type {\n",
              "        vertical-align: middle;\n",
              "    }\n",
              "\n",
              "    .dataframe tbody tr th {\n",
              "        vertical-align: top;\n",
              "    }\n",
              "\n",
              "    .dataframe thead th {\n",
              "        text-align: right;\n",
              "    }\n",
              "</style>\n",
              "<table border=\"1\" class=\"dataframe\">\n",
              "  <thead>\n",
              "    <tr style=\"text-align: right;\">\n",
              "      <th></th>\n",
              "      <th>0</th>\n",
              "      <th>1</th>\n",
              "      <th>labels</th>\n",
              "    </tr>\n",
              "  </thead>\n",
              "  <tbody>\n",
              "    <tr>\n",
              "      <th>4</th>\n",
              "      <td>1.321366</td>\n",
              "      <td>1.027120</td>\n",
              "      <td>1</td>\n",
              "    </tr>\n",
              "    <tr>\n",
              "      <th>5</th>\n",
              "      <td>4.484914</td>\n",
              "      <td>0.480556</td>\n",
              "      <td>1</td>\n",
              "    </tr>\n",
              "    <tr>\n",
              "      <th>6</th>\n",
              "      <td>8.394663</td>\n",
              "      <td>-0.177408</td>\n",
              "      <td>1</td>\n",
              "    </tr>\n",
              "    <tr>\n",
              "      <th>7</th>\n",
              "      <td>7.812426</td>\n",
              "      <td>-0.174564</td>\n",
              "      <td>1</td>\n",
              "    </tr>\n",
              "    <tr>\n",
              "      <th>8</th>\n",
              "      <td>9.102203</td>\n",
              "      <td>-0.038887</td>\n",
              "      <td>1</td>\n",
              "    </tr>\n",
              "    <tr>\n",
              "      <th>...</th>\n",
              "      <td>...</td>\n",
              "      <td>...</td>\n",
              "      <td>...</td>\n",
              "    </tr>\n",
              "    <tr>\n",
              "      <th>1792</th>\n",
              "      <td>-0.162941</td>\n",
              "      <td>1.064820</td>\n",
              "      <td>1</td>\n",
              "    </tr>\n",
              "    <tr>\n",
              "      <th>1793</th>\n",
              "      <td>-0.153682</td>\n",
              "      <td>0.850429</td>\n",
              "      <td>1</td>\n",
              "    </tr>\n",
              "    <tr>\n",
              "      <th>1794</th>\n",
              "      <td>-0.041965</td>\n",
              "      <td>0.509770</td>\n",
              "      <td>1</td>\n",
              "    </tr>\n",
              "    <tr>\n",
              "      <th>1826</th>\n",
              "      <td>-0.161178</td>\n",
              "      <td>0.829564</td>\n",
              "      <td>1</td>\n",
              "    </tr>\n",
              "    <tr>\n",
              "      <th>1829</th>\n",
              "      <td>-0.150934</td>\n",
              "      <td>0.695726</td>\n",
              "      <td>1</td>\n",
              "    </tr>\n",
              "  </tbody>\n",
              "</table>\n",
              "<p>486 rows × 3 columns</p>\n",
              "</div>"
            ],
            "text/plain": [
              "             0         1  labels\n",
              "4     1.321366  1.027120       1\n",
              "5     4.484914  0.480556       1\n",
              "6     8.394663 -0.177408       1\n",
              "7     7.812426 -0.174564       1\n",
              "8     9.102203 -0.038887       1\n",
              "...        ...       ...     ...\n",
              "1792 -0.162941  1.064820       1\n",
              "1793 -0.153682  0.850429       1\n",
              "1794 -0.041965  0.509770       1\n",
              "1826 -0.161178  0.829564       1\n",
              "1829 -0.150934  0.695726       1\n",
              "\n",
              "[486 rows x 3 columns]"
            ]
          },
          "metadata": {
            "tags": []
          },
          "execution_count": 34
        }
      ]
    },
    {
      "cell_type": "code",
      "metadata": {
        "id": "EKSBHQ4qCEX4",
        "colab_type": "code",
        "colab": {
          "base_uri": "https://localhost:8080/",
          "height": 282
        },
        "outputId": "d517a852-52ee-46ce-8038-c2ebb729462d"
      },
      "source": [
        "plt.scatter(d0[0], d0[1], c ='r') \n",
        "plt.scatter(d1[0], d1[1], c ='yellow') "
      ],
      "execution_count": 56,
      "outputs": [
        {
          "output_type": "execute_result",
          "data": {
            "text/plain": [
              "<matplotlib.collections.PathCollection at 0x7ff10fbbed68>"
            ]
          },
          "metadata": {
            "tags": []
          },
          "execution_count": 56
        },
        {
          "output_type": "display_data",
          "data": {
            "image/png": "[encoded data removed]",
            "text/plain": [
              "<Figure size 432x288 with 1 Axes>"
            ]
          },
          "metadata": {
            "tags": []
          }
        }
      ]
    },
    {
      "cell_type": "code",
      "metadata": {
        "id": "cgxA2wXPKpoS",
        "colab_type": "code",
        "colab": {
          "base_uri": "https://localhost:8080/",
          "height": 105
        },
        "outputId": "44c32869-66ee-4b16-f03e-c5354f6e9b1a"
      },
      "source": [
        "a=np.array([1,2,3])\n",
        "a=a.reshape(1,3)\n",
        "b=a.reshape(3,1)\n",
        "print(a.shape)\n",
        "print(b.shape)\n",
        "print(a*b)"
      ],
      "execution_count": 157,
      "outputs": [
        {
          "output_type": "stream",
          "text": [
            "(1, 3)\n",
            "(3, 1)\n",
            "[[1 2 3]\n",
            " [2 4 6]\n",
            " [3 6 9]]\n"
          ],
          "name": "stdout"
        }
      ]
    }
  ]
}